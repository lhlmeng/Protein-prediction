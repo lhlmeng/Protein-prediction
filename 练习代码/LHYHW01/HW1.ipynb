{
 "cells": [
  {
   "cell_type": "code",
   "execution_count": 33,
   "id": "041a022e",
   "metadata": {},
   "outputs": [],
   "source": [
    "# Numerical Operations\n",
    "import math\n",
    "import numpy as np\n",
    " \n",
    "# Reading/Writing Data\n",
    "import pandas as pd\n",
    "import os\n",
    "import csv\n",
    " \n",
    "# For Progress Bar\n",
    "from tqdm import tqdm\n",
    " \n",
    "# Pytorch\n",
    "import torch \n",
    "import torch.nn as nn\n",
    "from torch.utils.data import Dataset, DataLoader, random_split\n",
    " \n",
    "# For plotting learning curve\n",
    "from torch.utils.tensorboard import SummaryWriter"
   ]
  },
  {
   "cell_type": "markdown",
   "id": "dfdd0360",
   "metadata": {},
   "source": [
    "# DATA"
   ]
  },
  {
   "cell_type": "code",
   "execution_count": 43,
   "id": "6a37dec5",
   "metadata": {},
   "outputs": [],
   "source": [
    "train_data = pd.read_csv('./covid.train_new.csv').values\n",
    "test_data = pd.read_csv('./covid.test_un.csv').values"
   ]
  },
  {
   "cell_type": "code",
   "execution_count": 44,
   "id": "27450b34",
   "metadata": {},
   "outputs": [
    {
     "name": "stdout",
     "output_type": "stream",
     "text": [
      "(2500, 116) (2500,) (1078, 116) (199, 116) (199,)\n"
     ]
    }
   ],
   "source": [
    "train_features = train_data[:2500,1:-1]\n",
    "train_labels = train_data[:2500,-1]\n",
    "test_features = test_data[:,1:]\n",
    "val_features = train_data[2500:,1:-1]\n",
    "val_labels = train_data[2500:,-1]\n",
    "print(train_features.shape,train_labels.shape,test_features.shape,val_features.shape,val_labels.shape)"
   ]
  },
  {
   "cell_type": "code",
   "execution_count": 45,
   "id": "c44e2e41",
   "metadata": {},
   "outputs": [],
   "source": [
    "class COVIDataset(Dataset):\n",
    "    def __init__(self,x,y=None):\n",
    "        if y is  None:\n",
    "            self.y = None\n",
    "        else:\n",
    "            self.y = torch.FloatTensor(y)\n",
    "        self.x = torch.FloatTensor(x)\n",
    "    \n",
    "    def __getitem__(self,idx):\n",
    "        if self.y is None:\n",
    "            return self.x[idx]\n",
    "        else:\n",
    "            return self.x[idx],self.y[idx]\n",
    "    \n",
    "    def __len__(self):\n",
    "        return len(self.x)"
   ]
  },
  {
   "cell_type": "code",
   "execution_count": 46,
   "id": "e2dd3690",
   "metadata": {},
   "outputs": [],
   "source": [
    "train_dataset = COVIDataset(train_features,train_labels)\n",
    "val_dataset = COVIDataset(val_features,val_labels)\n",
    "test_dataset = COVIDataset(test_features)\n",
    "\n",
    "train_loader = DataLoader(test_dataset,batch_size=64,shuffle=True)\n",
    "val_loader = DataLoader(val_dataset,batch_size=64,shuffle=False)\n",
    "test_loader = DataLoader(test_data,shuffle=False)"
   ]
  },
  {
   "cell_type": "code",
   "execution_count": 47,
   "id": "215b58b2",
   "metadata": {},
   "outputs": [],
   "source": [
    "class MyModel(nn.Module):\n",
    "    def __init__(self,input_dim):\n",
    "        super(MyModel,self).__init__()\n",
    "        self.layers = nn.Sequential(\n",
    "            nn.Linear(input_dim,64),\n",
    "            nn.ReLU(),\n",
    "            nn.Linear(64,8),\n",
    "            nn.ReLU(),\n",
    "            nn.Linear(8,1)\n",
    "        )\n",
    "    def forward(self,x):\n",
    "        x = self.layers(x)\n",
    "        x = squeeze(1)\n",
    "        return x"
   ]
  },
  {
   "cell_type": "code",
   "execution_count": 48,
   "id": "bd3b9fe6",
   "metadata": {},
   "outputs": [
    {
     "data": {
      "text/plain": [
       "MyModel(\n",
       "  (layers): Sequential(\n",
       "    (0): Linear(in_features=116, out_features=64, bias=True)\n",
       "    (1): ReLU()\n",
       "    (2): Linear(in_features=64, out_features=8, bias=True)\n",
       "    (3): ReLU()\n",
       "    (4): Linear(in_features=8, out_features=1, bias=True)\n",
       "  )\n",
       ")"
      ]
     },
     "execution_count": 48,
     "metadata": {},
     "output_type": "execute_result"
    }
   ],
   "source": [
    "model = MyModel(116)\n",
    "model"
   ]
  },
  {
   "cell_type": "code",
   "execution_count": 49,
   "id": "e97e539f",
   "metadata": {},
   "outputs": [],
   "source": [
    "criterion = torch.nn.MSELoss()\n",
    "optimizer = torch.optim.SGD(model.parameters(),lr = 1e-5,momentum=0.9)\n",
    "model_path = './MyModel.ckpt'\n",
    "num_epoch = 400"
   ]
  },
  {
   "cell_type": "code",
   "execution_count": 50,
   "id": "2a1acf4f",
   "metadata": {},
   "outputs": [],
   "source": [
    "def trainer(model,train_loader,val_loader):\n",
    "    for epochs in range(400):\n",
    "        train_loss = []\n",
    "        val_loss = []\n",
    "        score = 1e5\n",
    "        for x,y in train_loader:\n",
    "            optimizer.zero_grad()\n",
    "            y_hat = model(x)\n",
    "            loss = criterion(y_hat,y)\n",
    "            loss.backward()\n",
    "            optimizer.step()\n",
    "            train_loss.append(loss)\n",
    "\n",
    "        with torch.no_grad():\n",
    "            for x,y in val_loader:\n",
    "                y_hat = model(x)\n",
    "                loss = criterion(y_hat,y)\n",
    "                val_loss.append(loss)\n",
    "        print('epoch:',epochs,'train_loss:',sum(train_loss)/len(train_loss),'valid_loss:',sum(val_loss)/len(val_loss),'\\n')"
   ]
  },
  {
   "cell_type": "code",
   "execution_count": 52,
   "id": "03985987",
   "metadata": {},
   "outputs": [
    {
     "ename": "ValueError",
     "evalue": "too many values to unpack (expected 2)",
     "output_type": "error",
     "traceback": [
      "\u001b[1;31m---------------------------------------------------------------------------\u001b[0m",
      "\u001b[1;31mValueError\u001b[0m                                Traceback (most recent call last)",
      "Input \u001b[1;32mIn [52]\u001b[0m, in \u001b[0;36m<cell line: 1>\u001b[1;34m()\u001b[0m\n\u001b[1;32m----> 1\u001b[0m \u001b[43mtrainer\u001b[49m\u001b[43m(\u001b[49m\u001b[43mmodel\u001b[49m\u001b[43m,\u001b[49m\u001b[43mtrain_loader\u001b[49m\u001b[43m,\u001b[49m\u001b[43mval_loader\u001b[49m\u001b[43m)\u001b[49m\n",
      "Input \u001b[1;32mIn [50]\u001b[0m, in \u001b[0;36mtrainer\u001b[1;34m(model, train_loader, val_loader)\u001b[0m\n\u001b[0;32m      4\u001b[0m val_loss \u001b[38;5;241m=\u001b[39m []\n\u001b[0;32m      5\u001b[0m score \u001b[38;5;241m=\u001b[39m \u001b[38;5;241m1e5\u001b[39m\n\u001b[1;32m----> 6\u001b[0m \u001b[38;5;28;01mfor\u001b[39;00m x,y \u001b[38;5;129;01min\u001b[39;00m train_loader:\n\u001b[0;32m      7\u001b[0m     optimizer\u001b[38;5;241m.\u001b[39mzero_grad()\n\u001b[0;32m      8\u001b[0m     y_hat \u001b[38;5;241m=\u001b[39m model(x)\n",
      "\u001b[1;31mValueError\u001b[0m: too many values to unpack (expected 2)"
     ]
    }
   ],
   "source": [
    "trainer(model,train_loader,val_loader)"
   ]
  },
  {
   "cell_type": "code",
   "execution_count": null,
   "id": "e2c5be06",
   "metadata": {},
   "outputs": [],
   "source": []
  }
 ],
 "metadata": {
  "kernelspec": {
   "display_name": "Python 3 (ipykernel)",
   "language": "python",
   "name": "python3"
  },
  "language_info": {
   "codemirror_mode": {
    "name": "ipython",
    "version": 3
   },
   "file_extension": ".py",
   "mimetype": "text/x-python",
   "name": "python",
   "nbconvert_exporter": "python",
   "pygments_lexer": "ipython3",
   "version": "3.9.12"
  }
 },
 "nbformat": 4,
 "nbformat_minor": 5
}
